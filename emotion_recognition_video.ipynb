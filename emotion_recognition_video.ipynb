{
 "cells": [
  {
   "cell_type": "code",
   "execution_count": 14,
   "id": "1c54fb62",
   "metadata": {},
   "outputs": [],
   "source": [
    "import cv2"
   ]
  },
  {
   "cell_type": "code",
   "execution_count": 15,
   "id": "2c097df4",
   "metadata": {},
   "outputs": [],
   "source": [
    "cap = cv2.VideoCapture(\"video.mp4\")"
   ]
  },
  {
   "cell_type": "code",
   "execution_count": 16,
   "id": "64f7910b",
   "metadata": {},
   "outputs": [],
   "source": [
    "from keras.models import load_model\n",
    "from time import sleep\n",
    "from keras.preprocessing.image import img_to_array\n",
    "from keras.preprocessing import image\n",
    "import cv2\n",
    "import numpy as np"
   ]
  },
  {
   "cell_type": "code",
   "execution_count": 17,
   "id": "bcaec8e5",
   "metadata": {},
   "outputs": [],
   "source": [
    "# face_classifier = cv2.CascadeClassifier(\"/home/satvik/Desktop/Internship/FER-project/haarcascade_frontalface_default.xml\")\n",
    "face_classifier = cv2.CascadeClassifier(\"haarcascade_frontalface_default.xml\")\n",
    "classifier =load_model(\"model.h5\")"
   ]
  },
  {
   "cell_type": "code",
   "execution_count": 18,
   "id": "2170642a",
   "metadata": {},
   "outputs": [],
   "source": [
    "#webcam\n",
    "\n",
    "# emotion_labels = ['Angry','Happy','Neutral', 'Sad', 'Surprise']\n",
    "emotion_labels = ['Angry','Disgust','Fear','Happy','Neutral', 'Sad', 'Surprise']\n",
    "\n",
    "cap = cv2.VideoCapture(0)\n",
    "# cap = cv2.VideoCapture(\"video2.mp4\")\n",
    "# out = cv2.VideoWriter(\"output.mp4\",cv2.VideoWriter_fourcc(*'XVID'),30.0,(640,360))\n",
    "\n",
    "\n",
    "while cap.isOpened():\n",
    "    ret, frame = cap.read()\n",
    "    if ret==True:\n",
    "        labels = []\n",
    "        gray = cv2.cvtColor(frame,cv2.COLOR_BGR2GRAY)\n",
    "        faces = face_classifier.detectMultiScale(gray)\n",
    "\n",
    "        for (x,y,w,h) in faces:\n",
    "            cv2.rectangle(frame,(x,y),(x+w,y+h),(0,255,255),2)\n",
    "            roi_gray = gray[y:y+h,x:x+w]\n",
    "            roi_gray = cv2.resize(roi_gray,(48,48),interpolation=cv2.INTER_AREA)\n",
    "\n",
    "\n",
    "\n",
    "            if np.sum([roi_gray])!=0:\n",
    "                roi = roi_gray.astype('float')/255.0\n",
    "                roi = img_to_array(roi)\n",
    "                roi = np.expand_dims(roi,axis=0)\n",
    "\n",
    "                prediction = classifier.predict(roi)[0]\n",
    "                label=emotion_labels[prediction.argmax()]\n",
    "                label_position = (x,y)\n",
    "                cv2.putText(frame,label,label_position,cv2.FONT_HERSHEY_SIMPLEX,1,(0,255,0),2)\n",
    "            else:\n",
    "                cv2.putText(frame,\"No Faces\",(30,80),cv2.FONT_HERSHEY_SIMPLEX,1,(0,255,0),2)\n",
    "#         out.write(frame)\n",
    "        cv2.imshow('Emotion Detector',frame)\n",
    "        if cv2.waitKey(1) & 0xFF == ord('q'):\n",
    "            break\n",
    "    else:\n",
    "        break\n",
    "\n",
    "cap.release()\n",
    "# out.release()\n",
    "cv2.destroyAllWindows()"
   ]
  },
  {
   "cell_type": "code",
   "execution_count": 6,
   "id": "b513f6ff",
   "metadata": {},
   "outputs": [],
   "source": [
    "#video "
   ]
  },
  {
   "cell_type": "code",
   "execution_count": 19,
   "id": "a60fa435",
   "metadata": {},
   "outputs": [],
   "source": [
    "# emotion_labels = ['Angry','Happy','Neutral', 'Sad', 'Surprise']\n",
    "emotion_labels = ['Angry','Disgust','Fear','Happy','Neutral', 'Sad', 'Surprise']\n",
    "\n",
    "cap = cv2.VideoCapture(\"video2.mp4\")\n",
    "out = cv2.VideoWriter(\"output.mp4\",cv2.VideoWriter_fourcc(*'XVID'),30.0,(640,360))\n",
    "\n",
    "\n",
    "while cap.isOpened():\n",
    "    ret, frame = cap.read()\n",
    "    if ret==True:\n",
    "        labels = []\n",
    "        gray = cv2.cvtColor(frame,cv2.COLOR_BGR2GRAY)\n",
    "        faces = face_classifier.detectMultiScale(gray)\n",
    "\n",
    "        for (x,y,w,h) in faces:\n",
    "            cv2.rectangle(frame,(x,y),(x+w,y+h),(0,255,255),2)\n",
    "            roi_gray = gray[y:y+h,x:x+w]\n",
    "            roi_gray = cv2.resize(roi_gray,(48,48),interpolation=cv2.INTER_AREA)\n",
    "\n",
    "\n",
    "\n",
    "            if np.sum([roi_gray])!=0:\n",
    "                roi = roi_gray.astype('float')/255.0\n",
    "                roi = img_to_array(roi)\n",
    "                roi = np.expand_dims(roi,axis=0)\n",
    "\n",
    "                prediction = classifier.predict(roi)[0]\n",
    "                label=emotion_labels[prediction.argmax()]\n",
    "                label_position = (x,y)\n",
    "                cv2.putText(frame,label,label_position,cv2.FONT_HERSHEY_SIMPLEX,1,(0,255,0),2)\n",
    "            else:\n",
    "                cv2.putText(frame,\"No Faces\",(30,80),cv2.FONT_HERSHEY_SIMPLEX,1,(0,255,0),2)\n",
    "        out.write(frame)\n",
    "        cv2.imshow('Emotion Detector',frame)\n",
    "        if cv2.waitKey(1) & 0xFF == ord('q'):\n",
    "            break\n",
    "    else:\n",
    "        break\n",
    "\n",
    "cap.release()\n",
    "out.release()\n",
    "cv2.destroyAllWindows()"
   ]
  },
  {
   "cell_type": "code",
   "execution_count": null,
   "id": "2663505e",
   "metadata": {},
   "outputs": [],
   "source": []
  },
  {
   "cell_type": "code",
   "execution_count": null,
   "id": "ad1745ee",
   "metadata": {},
   "outputs": [],
   "source": []
  }
 ],
 "metadata": {
  "kernelspec": {
   "display_name": "Python 3",
   "language": "python",
   "name": "python3"
  },
  "language_info": {
   "codemirror_mode": {
    "name": "ipython",
    "version": 3
   },
   "file_extension": ".py",
   "mimetype": "text/x-python",
   "name": "python",
   "nbconvert_exporter": "python",
   "pygments_lexer": "ipython3",
   "version": "3.8.8"
  }
 },
 "nbformat": 4,
 "nbformat_minor": 5
}
